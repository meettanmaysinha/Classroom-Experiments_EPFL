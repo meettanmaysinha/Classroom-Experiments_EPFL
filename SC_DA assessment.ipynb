{
 "cells": [
  {
   "cell_type": "markdown",
   "metadata": {},
   "source": [
    "#INCIDENCE OF TUBERCULOSIS (TB)\n",
    "# Instructions / Notes: Read these carefully\n",
    "Read and execute each cell in order, without skipping forward.\n",
    "You **may** create new Jupyter notebook cells to use for e.g. testing, debugging, exploring, etc.- this is encouraged in fact! \n",
    "**Just make sure that your final answer dataframes and answers use the set variables outlined below.**\n",
    "Have fun!"
   ]
  },
  {
   "cell_type": "code",
   "execution_count": null,
   "metadata": {},
   "outputs": [],
   "source": [
    "# Run the following to import necessary packages and import dataset. Do not use any additional plotting libraries.\n",
    "import pandas as pd\n",
    "import numpy as np\n",
    "from IPython.core.interactiveshell import InteractiveShell\n",
    "InteractiveShell.ast_node_interactivity = \"all\"\n",
    "import matplotlib\n",
    "import matplotlib.pyplot as plt\n",
    "%matplotlib inline\n",
    "matplotlib.style.use('ggplot')\n",
    "\n",
    "dA = \"SC_DA assessment_TuberculosisFoulOdor.csv\"\n",
    "\n",
    "dfA = pd.read_csv(dA)\n",
    "dfA.head(n=5)"
   ]
  },
  {
   "cell_type": "markdown",
   "metadata": {},
   "source": [
    "The dataframe loaded above represents the \"incidence of tuberculosis (TB)\" across various cities in a canton (expressed as percentage from 0 to 100), and the \"foul (unpleasant) odors in these cities as reported by residents (for e.g., those coming from industrial waste, medical waste and other household trash)\" (measured on a scale of 0 to 1). Check some descriptive statistics for this dataset below."
   ]
  },
  {
   "cell_type": "code",
   "execution_count": null,
   "metadata": {},
   "outputs": [],
   "source": [
    "from IPython.core.interactiveshell import InteractiveShell\n",
    "InteractiveShell.ast_node_interactivity = \"all\"\n",
    "#You will receive 9 outputs: total number of data points, mean, standard deviation, minimum value, 1st quartile (25%), median (50%), 3rd quartile (75%), maximum value for both variables, Pearson's correlation between variables\n",
    "dfA.describe()\n",
    "dfA.corr(method='pearson')"
   ]
  },
  {
   "cell_type": "markdown",
   "metadata": {},
   "source": [
    "Officials of the canton have just received some raw medical data from the health department regarding the incidence of tuberculosis (TB) in various cities. Their goal is to figure out how to reduce the incidence of tuberculosis (TB) in the population. In order to do so, they first performed a correlational analysis of different data sources available to them from the canton, and found that there existed high positive correlation between the \"incidence of tuberculosis (TB)\" across various cities in the canton (expressed as percentage from 0 to 100), and \"the foul (unpleasant) odors in the city as reported by residents (e.g., those coming from industrial waste, medical waste and other household trash)\" (measured on a scale from 0 to 1). In order to bring about change, a group of officials come up with the following ideas among which they should prioritize: \n",
    "\n",
    "A) **Strategy A**: implementing good urban planning techniques focusing on air-flow manipulation, green spaces and pedestrian-friendly streets. \n",
    "\n",
    "B) **Strategy B**: launching programs to spray air fresheners with pleasant odors (for e.g., lavender, fruity, BBQ, baked etc) in different areas of the city. \n",
    "\n",
    "C) **Strategy C**: raising awareness regarding good hygiene practices in the city. \n",
    "\n",
    "D) **Strategy D**: installing indoor recycling stations to improve waste management in the city. \n",
    "\n",
    "E) **Strategy E**: improving availability of vaccination in medical stores across the city. \n",
    "\n",
    "F) **Strategy F**: launching programs for chemical treatment of air in different areas of the city. \n",
    "\n",
    "Rank order the strategies from the most to least appropriate for reducing the incidence of tuberculosis (TB), based on the evidence about the positive correlation presented at the beginning of the question."
   ]
  },
  {
   "cell_type": "code",
   "execution_count": null,
   "metadata": {},
   "outputs": [],
   "source": [
    "strategy_ordering = \"Set this to the ordering of strategies (for e.g., ACBDEF, ACFDBE etc)\"\n",
    "strategy_ordering_reasoning = \"Write your reasoning here\" "
   ]
  },
  {
   "cell_type": "code",
   "execution_count": null,
   "metadata": {},
   "outputs": [],
   "source": [
    "#If you need to implement any piece of code before finalizing your answer and reasoning, use this space. Don't erase your code segment from the workbook. In case you need any help with syntax, documentation file for the pandas python library (with search function in bottom left corner) is available at https://pandas.pydata.org/pandas-docs/stable/\n",
    "...\n",
    "...\n",
    "..."
   ]
  }
 ],
 "metadata": {},
 "nbformat": 4,
 "nbformat_minor": 2
}
