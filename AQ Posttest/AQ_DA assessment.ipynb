{
 "cells": [
  {
   "cell_type": "markdown",
   "metadata": {},
   "source": [
    "# WEALTH MANAGEMENT\n",
    "# Instructions / Notes: Read these carefully\n",
    "Read and execute each cell in order, without skipping forward.\n",
    "You **may** create new Jupyter notebook cells to use for e.g. testing, debugging, exploring, etc.- this is encouraged in fact! \n",
    "**Just make sure that your final answer dataframes and answers use the set variables outlined below.**\n",
    "Have fun!"
   ]
  },
  {
   "cell_type": "code",
   "execution_count": null,
   "metadata": {},
   "outputs": [],
   "source": [
    "# Run the following to import necessary packages and import dataset. Do not use any additional plotting libraries.\n",
    "import pandas as pd\n",
    "import numpy as np\n",
    "from IPython.core.interactiveshell import InteractiveShell\n",
    "InteractiveShell.ast_node_interactivity = \"all\"\n",
    "import matplotlib\n",
    "import matplotlib.pyplot as plt\n",
    "%matplotlib inline\n",
    "matplotlib.style.use('ggplot')\n",
    "\n",
    "dA = \"AQ_DA assessment_SalarySavings_cantonA.csv\"\n",
    "dB = \"AQ_DA assessment_SalarySavings_cantonB.csv\"\n",
    "\n",
    "dfA = pd.read_csv(dA)\n",
    "dfB = pd.read_csv(dB)\n",
    "dfA.head(n=5)"
   ]
  },
  {
   "cell_type": "markdown",
   "metadata": {},
   "source": [
    "# DATASET DESCRIPTION:\n",
    "Each of the 2 dataframes loaded above represents **total yearly salary and total yearly savings of people from 2 cantons A and B**. Run the cells to obtain some descriptive statistics for these datasets below."
   ]
  },
  {
   "cell_type": "code",
   "execution_count": null,
   "metadata": {},
   "outputs": [],
   "source": [
    "from IPython.core.interactiveshell import InteractiveShell\n",
    "InteractiveShell.ast_node_interactivity = \"all\"\n",
    "#You will receive 3 outputs: mean, standard deviation and Pearson correlation between variables\n",
    "dfA.mean()\n",
    "dfA.std()\n",
    "dfA.corr(method='pearson')"
   ]
  },
  {
   "cell_type": "code",
   "execution_count": null,
   "metadata": {},
   "outputs": [],
   "source": [
    "from IPython.core.interactiveshell import InteractiveShell\n",
    "InteractiveShell.ast_node_interactivity = \"all\"\n",
    "#You will receive 3 outputs: mean, standard deviation and Pearson correlation between variables\n",
    "dfB.mean()\n",
    "dfB.std()\n",
    "dfB.corr(method='pearson')"
   ]
  },
  {
   "cell_type": "markdown",
   "metadata": {},
   "source": [
    "# TASK:\n",
    "People from which canton **seem wiser** in their long-term financial planning? Also provide a brief reasoning behind your answer selection. Finally, tell us whether you used information about the descriptive statistics (obtained by running the cells above) in reasoning about your answer."
   ]
  },
  {
   "cell_type": "code",
   "execution_count": null,
   "metadata": {},
   "outputs": [],
   "source": [
    "#Round all your statistics to 2 decimal places before reasoning with them!!\n",
    "\n",
    "canton = \"Set this to A or B\"\n",
    "canton_reasoning = \"Write your reasoning here\"\n",
    "used_descriptive_statistics_in_reasoning = \"Set this variable to yes or no\" "
   ]
  },
  {
   "cell_type": "code",
   "execution_count": null,
   "metadata": {},
   "outputs": [],
   "source": [
    "#If you need to implement any piece of code before finalizing your answer and reasoning, use this space. \n",
    "#Don't erase your code segment from the workbook. \n",
    "#In case you need any help with syntax, documentation file for the:\n",
    "#a) pandas library (with search function in bottom left corner) - https://pandas.pydata.org/pandas-docs/stable/\n",
    "#b) numpy library (with search function in right corner) - https://docs.scipy.org/doc/numpy/user/index.html\n",
    "#c) matplotlib library (with search function in top right corner) - https://matplotlib.org/contents.html\n",
    "# DO NOT USE GOOGLE SEARCH!!!\n",
    "...\n",
    "...\n",
    "..."
   ]
  }
 ],
 "metadata": {},
 "nbformat": 4,
 "nbformat_minor": 2
}
