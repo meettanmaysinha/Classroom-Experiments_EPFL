{
 "cells": [
  {
   "cell_type": "markdown",
   "metadata": {},
   "source": [
    "Sales\n",
    "=============\n",
    "\n",
    "\n",
    "### Instructions / Notes:\n",
    "\n",
    "**_Read these carefully_**\n",
    "\n",
    "* Read and execute each cell in order, without skipping forward\n",
    "* You **may** create new Jupyter notebook cells to use for e.g. testing, debugging, exploring, etc.- this is encouraged in fact!- **just make sure that your final answer dataframes and answers use the set variables outlined below**\n",
    "* _Have fun!_"
   ]
  },
  {
      ]
     },
    }
   ],
   "source": [
    "# Run the following to import necessary packages and import dataset. Do not use any additional plotting libraries.\n",
    "\n",
    "import pandas as pd\n",
    "import numpy as np\n",
    "import matplotlib\n",
    "import matplotlib.pyplot as plt\n",
    "%matplotlib inline\n",
    "matplotlib.style.use('ggplot')\n",
    "\n",
    "d1 = \"dataset/sales1.csv\"\n",
    "d2 = \"dataset/sales2.csv\"\n",
    "d3 = \"dataset/sales3.csv\"\n",
    "d4 = \"dataset/sales4.csv\"\n",
    "\n",
    "df1 = pd.read_csv(d1)\n",
    "df2 = pd.read_csv(d2)\n",
    "df3 = pd.read_csv(d3)\n",
    "df4 = pd.read_csv(d4)\n",
    "df1.head(n=5)   # Print n number of rows from top of dataset"
   ]
  },
  {
   "cell_type": "markdown",
   "metadata": {},
   "source": [
    "## Each of the 4 dataframes loaded above represents a company's average sales over time. Check the descriptive statistics below."
   ]
  },
  {
  
     },

    }
   ],
   "source": [
    "df1.describe()"
   ]
  },
  {
      ]
     },
    }
   ],
   "source": [
    "df2.describe()"
   ]
  },
  {
      ]
     },
 
    }
   ],
   "source": [
    "df3.describe()"
   ]
  },
  {
   
      ]
     },

    }
   ],
   "source": [
    "df4.describe()"
   ]
  },
  {
   "cell_type": "markdown",
   "metadata": {},
   "source": [
    "Can you identify a dataset that is least likely to represent a company's sales over time? Set the following variable to ```'Yes'``` or ```'No'```."
   ]
  },
  {
   "cell_type": "code",
   "execution_count": null,
   "metadata": {
    "collapsed": true
   },
   "outputs": [],
   "source": [
    "least_rep_dataset_exists = None"
   ]
  },
  {
   "cell_type": "markdown",
   "metadata": {},
   "source": [
    "If you answered ```'Yes'``` which dataset is least likely to represent a company's sales over time? \n",
    "Set the following variable to ```1```, ```2```, ```3```, or ```4```."
   ]
  },
  {
   "cell_type": "code",
   "execution_count": null,
   "metadata": {
    "collapsed": true
   },
   "outputs": [],
   "source": [
    "least_rep_dataset = None"
   ]
  },
  {
   "cell_type": "markdown",
   "metadata": {},
   "source": [
    "## Clue\n",
    "\n",
    "### Pandas has a handy function to generate 1-D histogram: https://pandas.pydata.org/pandas-docs/version/0.21/generated/pandas.DataFrame.plot.hist.html?highlight=histogram\n",
    "If this clue changes your answer, try again below. Otherwise, if you are confident in your answer above, leave the following untouched."
   ]
  },
  {
   "cell_type": "code",
   "execution_count": null,
   "metadata": {
    "collapsed": true
   },
   "outputs": [],
   "source": [
    "# Show your revised analysis below"
   ]
  },
  {
   "cell_type": "code",
   "execution_count": null,
   "metadata": {
    "collapsed": true
   },
   "outputs": [],
   "source": [
    "least_rep_dataset_exists_clue = None"
   ]
  },
  {
   "cell_type": "code",
   "execution_count": null,
   "metadata": {
    "collapsed": true
   },
   "outputs": [],
   "source": [
    "least_rep_dataset_clue = None"
   ]
  }
 ],
 "metadata": {
  "kernelspec": {
   "display_name": "Python 3",
   "language": "python",
   "name": "python3"
  },
  "language_info": {
   "codemirror_mode": {
    "name": "ipython",
    "version": 3
   },
   "file_extension": ".py",
   "mimetype": "text/x-python",
   "name": "python",
   "nbconvert_exporter": "python",
   "pygments_lexer": "ipython3",
   "version": "3.6.1"
  }
 },
 "nbformat": 4,
 "nbformat_minor": 2
}
