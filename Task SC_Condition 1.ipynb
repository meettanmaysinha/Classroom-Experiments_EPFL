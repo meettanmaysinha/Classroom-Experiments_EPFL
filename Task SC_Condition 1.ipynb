{
 "cells": [
  {
   "cell_type": "markdown",
   "metadata": {},
   "source": [
    "#SOCIETY\n",
    "# Instructions / Notes: Read these carefully\n",
    "Read and execute each cell in order, without skipping forward.\n",
    "You **may** create new Jupyter notebook cells to use for e.g. testing, debugging, exploring, etc.- this is encouraged in fact! \n",
    "**Just make sure that your final answer dataframes and answers use the set variables outlined below.**\n",
    "Have fun!"
   ]
  },
  {
   "cell_type": "code",
   "execution_count": null,
   "metadata": {},
   "outputs": [],
   "source": [
    "# Run the following to import necessary packages and import dataset. Do not use any additional plotting libraries.\n",
    "import pandas as pd\n",
    "import numpy as np\n",
    "from IPython.core.interactiveshell import InteractiveShell\n",
    "InteractiveShell.ast_node_interactivity = \"all\"\n",
    "import matplotlib\n",
    "import matplotlib.pyplot as plt\n",
    "%matplotlib inline\n",
    "matplotlib.style.use('ggplot')\n",
    "\n",
    "df = \"society.csv\"\n",
    "df"
   ]
  },
  {
   "cell_type": "markdown",
   "metadata": {},
   "source": [
    "**The dataset above contains various societal factors in a country during a timespan of 2001 to 2015.** \n",
    "These factors include the (i) number of movie theatres (Movie_theatres), (ii) the percentage of homes with a washing machine (Washing_machine), (iii) the number of divorces (Divorces), (iv) investments related to infrastructure development (Infrastructure_investment), (v) the number of children born (Birth_rate), (vi) the number of emigrants (Emigrants), (vii) the turn-over on tv commercials (TVcommercial_turnover), (viii) number of individuals transported by trains (Train_transport), (ix) the average yearly temperature (Temperature), (x) the number of newborns given the name Peter (Name_Peter), (xi) the ranking of the country's football club in the football league (Football_Ranking)."
   ]
  },
  {
   "cell_type": "code",
   "execution_count": null,
   "metadata": {},
   "outputs": [],
   "source": [
    "from IPython.core.interactiveshell import InteractiveShell\n",
    "InteractiveShell.ast_node_interactivity = \"all\"\n",
    "\n",
    "#Here are the correlation coefficients between pairs of columns\n",
    "df.corr(method='pearson')"
   ]
  },
  {
   "cell_type": "markdown",
   "metadata": {},
   "source": [
    "Identify **strong** (i.e., correleation coefficient > 0.8) and **meaningful** correlations among pairs of columns in this dataset. Append these pairs of correlated columns in the following form [column_x, column_y] to the variable below. Also provide a brief reasoning behind your answer selection"
   ]
  },
  {
   "cell_type": "code",
   "execution_count": null,
   "metadata": {},
   "outputs": [],
   "source": [
    "# correlation.append(['column_x', 'column_y'])\n",
    "correlations = []\n",
    "correlations_reasoning = \" \"\n",
    "\n",
    "# do not touch\n",
    "correlations.sort()\n",
    "print(correlations)"
   ]
  },
  {
   "cell_type": "markdown",
   "metadata": {},
   "source": [
    "#CLUE\n",
    "**Read more about the Pearson correlation coefficient used in the .corr() method above: https://en.wikipedia.org/wiki/Pearson_correlation_coefficient.**\n",
    "If this clue changes your answer, try again below. Otherwise, if you are confident in your answer above, leave the following untouched."
   ]
  },
  {
   "cell_type": "code",
   "execution_count": null,
   "metadata": {},
   "outputs": [],
   "source": [
    "# meaningful_correlation.append(['column_x', 'column_y'])\n",
    "correlations_clue = []\n",
    "correlations_clue_reasoning = \" \"\n",
    "\n",
    "# do not touch\n",
    "correlations_clue.sort()\n",
    "print(correlations_clue) "
   ]
  }
 ],
 "metadata": {},
 "nbformat": 4,
 "nbformat_minor": 2
}
