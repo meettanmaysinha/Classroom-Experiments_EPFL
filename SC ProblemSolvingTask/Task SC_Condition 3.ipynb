{
 "cells": [
  {
   "cell_type": "markdown",
   "metadata": {},
   "source": [
    "# ICE CREAM SALES\n",
    "# Instructions / Notes: Read these carefully\n",
    "Read and execute each cell in order, without skipping forward.\n",
    "You **may** create new Jupyter notebook cells to use for e.g. testing, debugging, exploring, etc.- this is encouraged in fact! \n",
    "**Just make sure that your final answer dataframes and answers use the set variables outlined below.**\n",
    "Have fun!"
   ]
  },
  {
   "cell_type": "code",
   "execution_count": null,
   "metadata": {},
   "outputs": [],
   "source": [
    "# Run the following to import necessary packages and import dataset. Do not use any additional plotting libraries.\n",
    "import pandas as pd\n",
    "import numpy as np\n",
    "from IPython.core.interactiveshell import InteractiveShell\n",
    "InteractiveShell.ast_node_interactivity = \"all\"\n",
    "import matplotlib\n",
    "import matplotlib.pyplot as plt\n",
    "import seaborn as sns\n",
    "%matplotlib inline\n",
    "matplotlib.style.use('ggplot')\n",
    "\n",
    "d1 = \"SC_problem-solving-task_dataset.csv\"\n",
    "df = pd.read_csv(d1)\n",
    "df"
   ]
  },
  {
   "cell_type": "markdown",
   "metadata": {},
   "source": [
    "# TASK: \n",
    "**The dataset above contains the ice cream sales, temperature, number of deaths by drowning and humidity level in a city during a timespan of 12 months.**\n",
    "Identify **strong** (i.e., correlation coefficient > |0.7|) and **meaningful** relationships among pairs of columns in this dataset. Append these pairs of related columns in the following form [column_x, column_y] to the variable below. Also provide a brief reasoning behind your answer selection. "
   ]
  },
  {
   "cell_type": "code",
   "execution_count": null,
   "metadata": {},
   "outputs": [],
   "source": [
    "# relationships.append(['column_x', 'column_y'])\n",
    "relationships = []\n",
    "relationships_reasoning = \" \"\n",
    "\n",
    "# do not touch\n",
    "relationships.sort()\n",
    "print(relationships)"
   ]
  },
  {
   "cell_type": "code",
   "execution_count": null,
   "metadata": {},
   "outputs": [],
   "source": [
    "#If you need to implement any piece of code before finalizing your answer and reasoning, use this space. Don't erase your code segment from the workbook. \n",
    "#In case you need any help with syntax, documentation file for the:\n",
    "#a) pandas library - https://pandas.pydata.org/pandas-docs/stable/\n",
    "#b) numpy library  - https://docs.scipy.org/doc/numpy/user/index.html\n",
    "#c) matplotlib library - https://matplotlib.org/contents.html\n",
    "# DO NOT USE GOOGLE SEARCH!!!\n",
    "...\n",
    "...\n",
    "..."
   ]
  },
  {
   "cell_type": "markdown",
   "metadata": {},
   "source": [
    "# CLUE:\n",
    "**Pandas has a handy function to generate correlation table: https://pandas.pydata.org/pandas-docs/stable/generated/pandas.DataFrame.corr.html**\n",
    ". If this clue changes your answer, try again below. Otherwise, if you are confident in your answer above, leave the following untouched."
   ]
  },
  {
   "cell_type": "code",
   "execution_count": null,
   "metadata": {},
   "outputs": [],
   "source": [
    "# meaningful_relationships.append(['column_x', 'column_y'])\n",
    "relationships_revised = []\n",
    "relationships_reasoning_revised = \" \"\n",
    "\n",
    "# do not touch\n",
    "relationships_revised.sort()\n",
    "print(relationships_revised) "
   ]
  },
  {
   "cell_type": "code",
   "execution_count": null,
   "metadata": {},
   "outputs": [],
   "source": [
    "#If you need to implement any piece of code before finalizing your answer and reasoning, use this space. Don't erase your code segment from the workbook. \n",
    "#In case you need any help with syntax, documentation file for the:\n",
    "#a) pandas library - https://pandas.pydata.org/pandas-docs/stable/\n",
    "#b) numpy library  - https://docs.scipy.org/doc/numpy/user/index.html\n",
    "#c) matplotlib library - https://matplotlib.org/contents.html\n",
    "# DO NOT USE GOOGLE SEARCH!!!\n",
    "...\n",
    "...\n",
    "..."
   ]
  }
 ],
 "metadata": {},
 "nbformat": 4,
 "nbformat_minor": 2
}
