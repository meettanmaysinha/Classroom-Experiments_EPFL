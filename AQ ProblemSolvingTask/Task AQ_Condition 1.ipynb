{
 "cells": [
  {
   "cell_type": "markdown",
   "metadata": {},
   "source": [
    "# SALES OF A COMPANY\n",
    "# Instructions / Notes: Read these carefully\n",
    "Read and execute each cell in order, without skipping forward.\n",
    "You **may** create new Jupyter notebook cells to use for e.g. testing, debugging, exploring, etc.- this is encouraged in fact! \n",
    "**Just make sure that your final answer's dataframes and answers use the set variables outlined below.**\n",
    "Have fun!"
   ]
  },
  {
   "cell_type": "code",
   "execution_count": null,
   "metadata": {},
   "outputs": [],
   "source": [
    "# Run the following to import necessary packages and import dataset. Do not use any additional plotting libraries.\n",
    "import pandas as pd\n",
    "import numpy as np\n",
    "from IPython.core.interactiveshell import InteractiveShell\n",
    "InteractiveShell.ast_node_interactivity = \"all\"\n",
    "import matplotlib\n",
    "import matplotlib.pyplot as plt\n",
    "%matplotlib inline\n",
    "matplotlib.style.use('ggplot')\n",
    "\n",
    "dA = \"AQ_problem-solving-task_datasetA.csv\"\n",
    "dB = \"AQ_problem-solving-task_datasetB.csv\"\n",
    "dC = \"AQ_problem-solving-task_datasetC.csv\"\n",
    "\n",
    "dfA = pd.read_csv(dA)\n",
    "dfB = pd.read_csv(dB)\n",
    "dfC = pd.read_csv(dC)\n",
    "dfA.head(n=5)"
   ]
  },
  {
   "cell_type": "markdown",
   "metadata": {},
   "source": [
    "Each of the 3 dataframes loaded above represents average sales of 3 companies A, B, C over a period of time. Run the cell to obtain some descriptive statistics for these datasets below."
   ]
  },
  {
   "cell_type": "code",
   "execution_count": null,
   "metadata": {},
   "outputs": [],
   "source": [
    "from IPython.core.interactiveshell import InteractiveShell\n",
    "InteractiveShell.ast_node_interactivity = \"all\"\n",
    "#You will receive 8 outputs: total number of data points, mean, standard deviation, minimum value, 1st quartile (25%), median (50%), 3rd quartile (75%), maximum value for both variables\n",
    "dfA.describe()"
   ]
  },
  {
   "cell_type": "code",
   "execution_count": null,
   "metadata": {},
   "outputs": [],
   "source": [
    "from IPython.core.interactiveshell import InteractiveShell\n",
    "InteractiveShell.ast_node_interactivity = \"all\"\n",
    "#You will receive 8 outputs: total number of data points, mean, standard deviation, minimum value, 1st quartile (25%), median (50%), 3rd quartile (75%), maximum value for both variables\n",
    "dfB.describe()"
   ]
  },
  {
   "cell_type": "code",
   "execution_count": null,
   "metadata": {},
   "outputs": [],
   "source": [
    "from IPython.core.interactiveshell import InteractiveShell\n",
    "InteractiveShell.ast_node_interactivity = \"all\"\n",
    "#You will receive 8 outputs: total number of data points, mean, standard deviation, minimum value, 1st quartile (25%), median (50%), 3rd quartile (75%), maximum value for both variables \n",
    "dfC.describe()"
   ]
  },
  {
   "cell_type": "markdown",
   "metadata": {},
   "source": [
    "# TASK:\n",
    "Rank order the datasets from the weakest to the strongest dependency between the time and average sales. Set the following variable to the optimal ordering (for e.g., ABC, CBA etc). Also provide a brief reasoning behind your answer selection"
   ]
  },
  {
   "cell_type": "code",
   "execution_count": null,
   "metadata": {},
   "outputs": [],
   "source": [
    "dataset_dependency_ordering = \"Write your ordering of datasets here\"\n",
    "dataset_dependency_ordering_reasoning = \"Write your reasoning here\" "
   ]
  },
  {
   "cell_type": "code",
   "execution_count": null,
   "metadata": {},
   "outputs": [],
   "source": [
    "#If you need to implement any piece of code before finalizing your answer and reasoning, use this space. Don't erase your code segment from the workbook. In case you need any help with syntax, documentation file for the pandas python library (with search function in bottom left corner) is available at https://pandas.pydata.org/pandas-docs/stable/\n",
    "...\n",
    "...\n",
    "..."
   ]
  },
  {
   "cell_type": "markdown",
   "metadata": {},
   "source": [
    "# CLUE: \n",
    "**An Anscombe's Triplet is a modified version of an Anscombe's Quartet (https://en.wikipedia.org/wiki/Anscombe%27s_quartet) that has 3 datasets with nearly identical descriptive statistics but with very different appearance when plotted.**\n",
    "If this clue changes your answer, try again below. Otherwise, if you are confident in your answer above, leave the following untouched."
   ]
  },
  {
   "cell_type": "code",
   "execution_count": null,
   "metadata": {},
   "outputs": [],
   "source": [
    "#Show your revised analysis below\n",
    "dataset_dependency_ordering_revised = \"Write your ordering of datasets here\"\n",
    "dataset_dependency_ordering_revised_reasoning = \"Write your reasoning here\"  "
   ]
  },
  {
   "cell_type": "code",
   "execution_count": null,
   "metadata": {},
   "outputs": [],
   "source": [
    "#If you need to implement any piece of code before finalizing your answer and reasoning, use this space. Don't erase your code segment from the workbook. In case you need any help with syntax, documentation file for the pandas python library (with search function in bottom left corner) is available at https://pandas.pydata.org/pandas-docs/stable/\n",
    "...\n",
    "...\n",
    "..."
   ]
  }
 ],
 "metadata": {},
 "nbformat": 4,
 "nbformat_minor": 2
}
