{
 "cells": [
  {
   "cell_type": "markdown",
   "metadata": {},
   "source": [
    "#SOCIALIST MAYOR\n",
    "# Instructions / Notes: Read these carefully\n",
    "Read and execute each cell in order, without skipping forward.\n",
    "You **may** create new Jupyter notebook cells to use for e.g. testing, debugging, exploring, etc.- this is encouraged in fact! \n",
    "**Just make sure that your final answer dataframes and answers use the set variables outlined below.**\n",
    "Have fun!"
   ]
  },
  {
   "cell_type": "code",
   "execution_count": null,
   "metadata": {},
   "outputs": [],
   "source": [
    "# Run the following to import necessary packages and import dataset. Do not use any additional plotting libraries.\n",
    "import pandas as pd\n",
    "import numpy as np\n",
    "from IPython.core.interactiveshell import InteractiveShell\n",
    "InteractiveShell.ast_node_interactivity = \"all\"\n",
    "import matplotlib\n",
    "import matplotlib.pyplot as plt\n",
    "%matplotlib inline\n",
    "matplotlib.style.use('ggplot')\n",
    "\n",
    "dA = \"AQ_NT assessment_scenarioA.csv\"\n",
    "dB = \"AQ_NT assessment_scenarioB.csv\"\n",
    "dC = \"AQ_NT assessment_scenarioC.csv\"\n",
    "dD = \"AQ_NT assessment_scenarioD.csv\"\n",
    "\n",
    "dfA = pd.read_csv(dA)\n",
    "dfB = pd.read_csv(dB)\n",
    "dfC = pd.read_csv(dC)\n",
    "dfD = pd.read_csv(dD)\n",
    "dfA.head(n=5)"
   ]
  },
  {
   "cell_type": "markdown",
   "metadata": {},
   "source": [
    "Each of the 4 dataframes loaded above represents potential scenarios of wealth distribution in the city (in 100's). Check some descriptive statistics for these datasets below."
   ]
  },
  {
   "cell_type": "code",
   "execution_count": null,
   "metadata": {},
   "outputs": [],
   "source": [
    "from IPython.core.interactiveshell import InteractiveShell\n",
    "InteractiveShell.ast_node_interactivity = \"all\"\n",
    "#You will receive 2 outputs: median, inter-quartile range (3rd quartile (75%) - 1st quartile (25%))\n",
    "dfA.median()\n",
    "dfA.quantile(0.75) - dfA.quantile(0.25)"
   ]
  },
  {
   "cell_type": "code",
   "execution_count": null,
   "metadata": {},
   "outputs": [],
   "source": [
    "from IPython.core.interactiveshell import InteractiveShell\n",
    "InteractiveShell.ast_node_interactivity = \"all\"\n",
    "#You will receive 2 outputs: median, inter-quartile range (3rd quartile (75%) - 1st quartile (25%))\n",
    "dfB.median()\n",
    "dfB.quantile(0.75) - dfB.quantile(0.25)"
   ]
  },
  {
   "cell_type": "code",
   "execution_count": null,
   "metadata": {},
   "outputs": [],
   "source": [
    "from IPython.core.interactiveshell import InteractiveShell\n",
    "InteractiveShell.ast_node_interactivity = \"all\"\n",
    "#You will receive 2 outputs: median, inter-quartile range (3rd quartile (75%) - 1st quartile (25%))\n",
    "dfC.median()\n",
    "dfC.quantile(0.75) - dfC.quantile(0.25)"
   ]
  },
  {
   "cell_type": "code",
   "execution_count": null,
   "metadata": {},
   "outputs": [],
   "source": [
    "from IPython.core.interactiveshell import InteractiveShell\n",
    "InteractiveShell.ast_node_interactivity = \"all\"\n",
    "#You will receive 2 outputs: median, inter-quartile range (3rd quartile (75%) - 1st quartile (25%))\n",
    "dfD.median()\n",
    "dfD.quantile(0.75) - dfD.quantile(0.25)"
   ]
  },
  {
   "cell_type": "markdown",
   "metadata": {},
   "source": [
    " A new mayor has recently been elected by residents of the city. This mayor is a firm believer in economic theory of social organization, which says that the means of making, moving, and trading wealth should be owned or controlled by the community as a whole. Rank order the datasets reflecting potential scenarios of wealth distribution in the city (in 100's), from the most representative to the least representative of the mayor's socialist ideology. Also provide a brief reasoning behind your answer selection"
   ]
  },
  {
   "cell_type": "code",
   "execution_count": null,
   "metadata": {},
   "outputs": [],
   "source": [
    "scenario_ordering = \"Set this to the ordering of scenarios (for e.g., ACBD, BADC etc)\"\n",
    "scenario_ordering_reasoning = \"Write your reasoning here\" "
   ]
  },
  {
   "cell_type": "code",
   "execution_count": null,
   "metadata": {},
   "outputs": [],
   "source": [
    "#If you need to implement any piece of code before finalizing your answer and reasoning, use this space. Don't erase your code segment from the workbook. In case you need any help with syntax, documentation file for the pandas python library (with search function in bottom left corner) is available at https://pandas.pydata.org/pandas-docs/stable/\n",
    "...\n",
    "...\n",
    "..."
   ]
  }
 ],
 "metadata": {},
 "nbformat": 4,
 "nbformat_minor": 2
}
